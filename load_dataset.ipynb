{
 "nbformat": 4,
 "nbformat_minor": 2,
 "metadata": {
  "language_info": {
   "name": "python",
   "codemirror_mode": {
    "name": "ipython",
    "version": 3
   },
   "version": "3.7.6-final"
  },
  "orig_nbformat": 2,
  "file_extension": ".py",
  "mimetype": "text/x-python",
  "name": "python",
  "npconvert_exporter": "python",
  "pygments_lexer": "ipython3",
  "version": 3,
  "kernelspec": {
   "name": "python37664bitdrawgraphconda9e311cf71ff24971adb3d146218cfec2",
   "display_name": "Python 3.7.6 64-bit ('DrawGraph': conda)"
  }
 },
 "cells": [
  {
   "cell_type": "markdown",
   "metadata": {},
   "source": [
    "# データセットのロードと汎用変数"
   ]
  },
  {
   "cell_type": "code",
   "execution_count": 3,
   "metadata": {},
   "outputs": [],
   "source": [
    "import numpy as np\n",
    "import csv\n",
    "\n",
    "# ロードに必要なモジュールを読み込む\n",
    "#import cv2\n",
    "import wave\n",
    "\n",
    "num2cate = [] #number⇒category_name\n",
    "\n",
    "def load_dataset(data_path):\n",
    "    # number⇒category_nameを作る\n",
    "    with open(data_path + 'num2cate.csv', 'r', encoding=\"utf_8\") as f:\n",
    "        reader = csv.reader(f)\n",
    "        numcate_data = [row for row in reader]\n",
    "        num2cate.clear()\n",
    "        for i in range(len(numcate_data)):\n",
    "            num2cate.append(numcate_data[i][1])\n",
    "\n",
    "    #返すデータ変数の生成\n",
    "    x_train = []\n",
    "    y_train = []\n",
    "    x_test = []\n",
    "    y_test = []\n",
    "    #正解ファイル読み込み\n",
    "    with open(data_path + 'train/train.csv', 'r', encoding=\"utf_8\") as f:\n",
    "        reader = csv.reader(f)\n",
    "        train_data = [row for row in reader]\n",
    "        train_data_num = len(train_data)\n",
    "    with open(data_path + 'test/test.csv', 'r', encoding=\"utf_8\") as f:\n",
    "        reader = csv.reader(f)\n",
    "        test_data = [row for row in reader]\n",
    "        test_data_num = len(test_data)\n",
    "\n",
    "    #データの格納(入力データ読み込みと同時に行う)\n",
    "    for i in range(train_data_num):\n",
    "        ######################################\n",
    "        # input_dataに読み込む文を書く\n",
    "        #\n",
    "        # 画像の場合\n",
    "        # input_data = cv2.imread(data_path + \"train/img/\" + str(i) + \".png\", 1)\n",
    "        #\n",
    "        # 音声の場合 \n",
    "        wave_file = wave.open(data_path + \"train/data/\" + str(i) + \".wav\",\"r\") #Open\n",
    "        input_data = wave_file.readframes(wave_file.getnframes()) #frameの読み込み\n",
    "        input_data = np.frombuffer(input_data, dtype= \"int16\") #numpy.arrayに変換\n",
    "        #\n",
    "        #######################################\n",
    "        \n",
    "        x_train.append(input_data)    \n",
    "        y_train.append(train_data[i][1])\n",
    "\n",
    "    for i in range(test_data_num):\n",
    "        ######################################\n",
    "        # input_dataに読み込む文を書く\n",
    "        #\n",
    "        # 画像の場合\n",
    "        # input_data = cv2.imread(data_path + \"test/img/\" + str(i) + \".png\", 1)\n",
    "        # \n",
    "        # 音声の場合\n",
    "        wave_file = wave.open(data_path + \"test/data/\" + str(i) + \".wav\",\"r\") #Open\n",
    "        input_data = wave_file.readframes(wave_file.getnframes()) #frameの読み込み\n",
    "        input_data = np.frombuffer(input_data, dtype= \"int16\") #numpy.arrayに変換\n",
    "        #\n",
    "        #######################################\n",
    "\n",
    "        x_test.append(input_data)\n",
    "        y_test.append(test_data[i][1])\n",
    "        \n",
    "    x_train = np.array(x_train)\n",
    "    x_test = np.array(x_test)\n",
    "    y_train = np.array(y_train)\n",
    "    y_test = np.array(y_test)\n",
    "\n",
    "    return (x_train, y_train, train_data_num), (x_test, y_test, test_data_num)\n"
   ]
  },
  {
   "cell_type": "code",
   "execution_count": 4,
   "metadata": {},
   "outputs": [
    {
     "name": "stdout",
     "output_type": "stream",
     "text": "[150, 150, 30, 30]\n[['cateA', 'cateB', 'cateC'], 150, 30]\n"
    }
   ],
   "source": [
    "(x_train, y_train, train_data_num), (x_test, y_test, test_data_num) = load_dataset('./dataset/')\n",
    "\n",
    "print([len(x_train), len(y_train), len(x_test), len(y_test)])\n",
    "print([num2cate, train_data_num, test_data_num])"
   ]
  }
 ]
}