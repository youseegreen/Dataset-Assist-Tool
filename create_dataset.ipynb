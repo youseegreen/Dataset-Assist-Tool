{
 "nbformat": 4,
 "nbformat_minor": 2,
 "metadata": {
  "language_info": {
   "name": "python",
   "codemirror_mode": {
    "name": "ipython",
    "version": 3
   },
   "version": "3.7.6-final"
  },
  "orig_nbformat": 2,
  "file_extension": ".py",
  "mimetype": "text/x-python",
  "name": "python",
  "npconvert_exporter": "python",
  "pygments_lexer": "ipython3",
  "version": 3,
  "kernelspec": {
   "name": "python36964bitnextendedhandcondac19ae95aa69f4601a894d6b08d9b6316",
   "display_name": "Python 3.6.9 64-bit ('nextendedHand': conda)"
  }
 },
 "cells": [
  {
   "cell_type": "markdown",
   "metadata": {},
   "source": [
    "# データセットを作成する\n",
    "\n",
    "- data_path: カテゴリ全体へのパス\n",
    "- categories = \\['cate0_folder_name', ..., 'caten_folder_name'\\]\n",
    "- file_name: fileName0.pngのfileNameの部分\n",
    "- extend: 拡張子名\n",
    "- train_each_num: 各カテゴリから何枚のデータをtrainに使うか\n",
    "- test_each_num: 各カテゴリから何枚のデータをtrainに使うか\n",
    "- output_path: 出力データベースのパス\n",
    "\n",
    "\n",
    "- データセットの枚数は  \n",
    "　train=train_each_num × len(categories)  \n",
    "　test=test_each_num × len(categories)\n",
    "- output_path以下を以下のような構成にしておく  \n",
    "output_path --train--train.csv   \n",
    "　　　　　　　　　　　┗data--0.png, 1.png, ...   \n",
    "　　　　　　　┗test--train.csv  \n",
    "　　　　　　　　　　 ┗data--0.png, 1.png, ...\n"
   ]
  },
  {
   "cell_type": "code",
   "execution_count": 1,
   "metadata": {},
   "outputs": [],
   "source": [
    "# 設定変数達\n",
    "data_path = './original_data/'\n",
    "categories = ['cateA', 'cateB', 'cateC']\n",
    "file_name = ''\n",
    "extend = '.wav'\n",
    "train_each_num = 50\n",
    "test_each_num = 10\n",
    "output_path = './dataset/'\n"
   ]
  },
  {
   "cell_type": "code",
   "execution_count": 2,
   "metadata": {},
   "outputs": [
    {
     "name": "stdout",
     "output_type": "stream",
     "text": "終了しました\n"
    }
   ],
   "source": [
    "import csv\n",
    "import random\n",
    "import shutil\n",
    "import glob\n",
    "import os\n",
    "\n",
    "category_num = len(categories)\n",
    "train_num = category_num * train_each_num\n",
    "test_num = category_num * test_each_num\n",
    "check = True\n",
    "\n",
    "# 用意したデータセットで順番ランダムにする＆枚数が足りているかを確認する\n",
    "whole_files = []\n",
    "for i in range(category_num):\n",
    "    fs = []\n",
    "    for f in glob.glob(data_path + categories[i] + '/' + file_name + '*' + extend):\n",
    "        fs.append(f)\n",
    "    if len(fs) < train_each_num + test_each_num:\n",
    "        check = False\n",
    "        print('データが足りません')\n",
    "    whole_files.append(fs)\n",
    "    random.shuffle(whole_files[i])\n",
    "\n",
    "if check == True:\n",
    "    # config名作成\n",
    "    with open(output_path + 'num2cate.csv', 'w', newline='') as f:\n",
    "        writer = csv.writer(f)\n",
    "        for i in range(category_num):\n",
    "            writer.writerow([i, categories[i]])\n",
    "\n",
    "    # trainデータセット作成\n",
    "    os.makedirs(output_path + 'train', exist_ok=True)\n",
    "    os.makedirs(output_path + 'train/data', exist_ok=True)\n",
    "    with open(output_path + 'train/train.csv', 'w', newline='') as f:\n",
    "        counter = [0 for i in range(category_num)]\n",
    "        writer = csv.writer(f)\n",
    "        i = 0\n",
    "        while i < train_num:\n",
    "            val = random.randint(0, 2)\n",
    "            if counter[val] == train_each_num:\n",
    "                continue\n",
    "            src = whole_files[val][counter[val]]\n",
    "            dst = output_path + 'train/data/' + str(i) + extend\n",
    "            shutil.copyfile(src, dst)\n",
    "            writer.writerow([i, val])\n",
    "            counter[val] += 1\n",
    "            i += 1\n",
    "\n",
    "    # testデータセット作成\n",
    "    os.makedirs(output_path + 'test', exist_ok=True)\n",
    "    os.makedirs(output_path + 'test/data', exist_ok=True)\n",
    "    with open(output_path + 'test/test.csv', 'w', newline='') as f:\n",
    "        counter = [0 for i in range(category_num)]\n",
    "        writer = csv.writer(f)\n",
    "        i = 0\n",
    "        while i < test_num:\n",
    "            val = random.randint(0, 2)\n",
    "            if counter[val] == test_each_num:\n",
    "                continue\n",
    "            src = whole_files[val][train_each_num + counter[val]]\n",
    "            dst = output_path + 'test/data/' + str(i) + extend\n",
    "            shutil.copyfile(src, dst)\n",
    "            writer.writerow([i, val])\n",
    "            counter[val] += 1\n",
    "            i += 1\n",
    "\n",
    "print('終了しました')"
   ]
  },
  {
   "cell_type": "code",
   "execution_count": null,
   "metadata": {},
   "outputs": [],
   "source": []
  }
 ]
}